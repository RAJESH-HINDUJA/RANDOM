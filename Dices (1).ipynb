{
 "cells": [
  {
   "cell_type": "code",
   "execution_count": null,
   "id": "a5674aff",
   "metadata": {},
   "outputs": [],
   "source": [
    "import random\n",
    "D = \"y\"\n",
    "while D == \"y\":\n",
    "    rang=random.randint(1,6)\n",
    "    if rang == 1:\n",
    "        print(\"[~~~~~]\")\n",
    "        print(\"[     ]\")\n",
    "        print(\"[  *  ]\")\n",
    "        print(\"[     ]\")\n",
    "        print(\"[~~~~~]\")\n",
    "    if rang == 2:\n",
    "        print(\"[~~~~~]\")\n",
    "        print(\"[ *   ]\")\n",
    "        print(\"[     ]\")\n",
    "        print(\"[   * ]\")\n",
    "        print(\"[~~~~~]\")\n",
    "    if rang == 3:\n",
    "        print(\"[~~~~~]\")\n",
    "        print(\"[*    ]\")\n",
    "        print(\"[  *  ]\")\n",
    "        print(\"[    *]\")\n",
    "        print(\"[~~~~~]\")\n",
    "    if rang == 4:\n",
    "        print(\"[~~~~~]\")\n",
    "        print(\"[*   *]\")\n",
    "        print(\"[     ]\")\n",
    "        print(\"[*   *]\")\n",
    "        print(\"[~~~~~]\")\n",
    "    if rang == 5:\n",
    "        print(\"[~~~~~]\")\n",
    "        print(\"[*   *]\")\n",
    "        print(\"[  *  ]\")\n",
    "        print(\"[*   *]\")\n",
    "        print(\"[~~~~~]\")\n",
    "    if rang == 6:\n",
    "        print(\"[~~~~~]\")\n",
    "        print(\"[*   *]\")\n",
    "        print(\"[*   *]\")\n",
    "        print(\"[*   *]\")\n",
    "        print(\"[~~~~~]\")\n",
    "    D=input(\"Click y To Roll again and n to exit:\")\n",
    "    print(\"\\n\")\n"
   ]
  }
 ],
 "metadata": {
  "kernelspec": {
   "display_name": "Python 3 (ipykernel)",
   "language": "python",
   "name": "python3"
  },
  "language_info": {
   "codemirror_mode": {
    "name": "ipython",
    "version": 3
   },
   "file_extension": ".py",
   "mimetype": "text/x-python",
   "name": "python",
   "nbconvert_exporter": "python",
   "pygments_lexer": "ipython3",
   "version": "3.9.12"
  }
 },
 "nbformat": 4,
 "nbformat_minor": 5
}
